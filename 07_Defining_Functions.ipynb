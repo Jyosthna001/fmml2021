{
  "nbformat": 4,
  "nbformat_minor": 0,
  "metadata": {
    "colab": {
      "name": "07_Defining_Functions.ipynb",
      "provenance": [],
      "include_colab_link": true
    },
    "kernelspec": {
      "name": "python3",
      "display_name": "Python 3"
    },
    "language_info": {
      "name": "python"
    }
  },
  "cells": [
    {
      "cell_type": "markdown",
      "metadata": {
        "id": "view-in-github",
        "colab_type": "text"
      },
      "source": [
        "<a href=\"https://colab.research.google.com/github/Jyosthna001/fmml2021/blob/main/07_Defining_Functions.ipynb\" target=\"_parent\"><img src=\"https://colab.research.google.com/assets/colab-badge.svg\" alt=\"Open In Colab\"/></a>"
      ]
    },
    {
      "cell_type": "code",
      "metadata": {
        "id": "bBflzOQFKBzz"
      },
      "source": [
        "def isVowel (a):\n",
        "  \"\"\"this is a function to check whether a char is vowel or not\"\"\"\n",
        "  vowel=['a','e','i','o','u']\n",
        "  for each_char in vowel:\n",
        "    if each_char==a.lower():\n",
        "      return True\n",
        "    return False"
      ],
      "execution_count": 46,
      "outputs": []
    },
    {
      "cell_type": "code",
      "metadata": {
        "id": "XPotcbVBKjNn",
        "outputId": "613b01ca-d09d-4c81-8347-09334cb08aba",
        "colab": {
          "base_uri": "https://localhost:8080/"
        }
      },
      "source": [
        "help(isVowel)"
      ],
      "execution_count": 6,
      "outputs": [
        {
          "output_type": "stream",
          "name": "stdout",
          "text": [
            "Help on function isVowel in module __main__:\n",
            "\n",
            "isVowel(a)\n",
            "    this is a function to check whether a char is vowel or not\n",
            "\n"
          ]
        }
      ]
    },
    {
      "cell_type": "code",
      "metadata": {
        "id": "0aXg-yxVKkxZ",
        "outputId": "9865b88e-94dd-44ab-cd44-93db48b03009",
        "colab": {
          "base_uri": "https://localhost:8080/"
        }
      },
      "source": [
        "isVowel('a')"
      ],
      "execution_count": 8,
      "outputs": [
        {
          "output_type": "execute_result",
          "data": {
            "text/plain": [
              "True"
            ]
          },
          "metadata": {},
          "execution_count": 8
        }
      ]
    },
    {
      "cell_type": "code",
      "metadata": {
        "id": "F_Hevw2eR_YM",
        "outputId": "da1f318f-f0b1-4627-bfcb-e408ac689b7e",
        "colab": {
          "base_uri": "https://localhost:8080/"
        }
      },
      "source": [
        "isVowel('p')"
      ],
      "execution_count": 11,
      "outputs": [
        {
          "output_type": "execute_result",
          "data": {
            "text/plain": [
              "False"
            ]
          },
          "metadata": {},
          "execution_count": 11
        }
      ]
    },
    {
      "cell_type": "code",
      "metadata": {
        "id": "1pqsgNqwnbHE"
      },
      "source": [
        "def inList (my_char, my_list=['a','e','i','o','u']):\n",
        "  \"\"\" this is a function to check whether a char is vowel or not \"\"\"\n",
        "  for each_char in my_list:\n",
        "    if each_char == my_char.lower():\n",
        "      return True\n",
        "  return False"
      ],
      "execution_count": 1,
      "outputs": []
    },
    {
      "cell_type": "code",
      "metadata": {
        "id": "nOY7-hwWJeP6",
        "outputId": "4dd4af9b-d05f-4fa6-ff40-2b01022eb416",
        "colab": {
          "base_uri": "https://localhost:8080/"
        }
      },
      "source": [
        "help(inList)"
      ],
      "execution_count": 9,
      "outputs": [
        {
          "output_type": "stream",
          "name": "stdout",
          "text": [
            "Help on function inList in module __main__:\n",
            "\n",
            "inList(my_char, my_list=['a', 'e', 'i', 'o', 'u'])\n",
            "    this is a function to check whether a char is vowel or not\n",
            "\n"
          ]
        }
      ]
    },
    {
      "cell_type": "code",
      "metadata": {
        "id": "SLpNGCWYn6Er",
        "outputId": "4822d011-ca33-4158-f6d5-9d1c59d7d89f",
        "colab": {
          "base_uri": "https://localhost:8080/"
        }
      },
      "source": [
        "inList('Z', ['x', 'y', 'z'])"
      ],
      "execution_count": 3,
      "outputs": [
        {
          "output_type": "execute_result",
          "data": {
            "text/plain": [
              "True"
            ]
          },
          "metadata": {},
          "execution_count": 3
        }
      ]
    },
    {
      "cell_type": "code",
      "metadata": {
        "id": "B36uMyK_RzM6",
        "outputId": "b44064df-168d-4d13-89da-020a63193171",
        "colab": {
          "base_uri": "https://localhost:8080/"
        }
      },
      "source": [
        "inList('u',['x','y','z'])"
      ],
      "execution_count": 10,
      "outputs": [
        {
          "output_type": "execute_result",
          "data": {
            "text/plain": [
              "False"
            ]
          },
          "metadata": {},
          "execution_count": 10
        }
      ]
    },
    {
      "cell_type": "code",
      "metadata": {
        "id": "r_KUNOW3rCc6"
      },
      "source": [
        "# Write a function to check whether a given number belongs to fibonacci series or not"
      ],
      "execution_count": 12,
      "outputs": []
    },
    {
      "cell_type": "code",
      "metadata": {
        "id": "aGudGxgKSHfz",
        "outputId": "b7d7ac37-87ee-406f-bd9b-0da607b777d6",
        "colab": {
          "base_uri": "https://localhost:8080/"
        }
      },
      "source": [
        "val=int(input(\"Enter the number: \"))\n",
        "c=0\n",
        "a=1\n",
        "b=1\n",
        "if val==0 or val==1:\n",
        "    print(val,\"is belongs to Fibonacci Number\")\n",
        "else:\n",
        "    while c<val:\n",
        "        c=a+b\n",
        "        b=a\n",
        "        a=c\n",
        "    if c==val:\n",
        "      print (val,\"is belongs to Fibonacci Number\")\n",
        "    else:\n",
        "      print (val,\"is not belongs to Fibonacci Number \")\n",
        "\n",
        "\n",
        "\t\n"
      ],
      "execution_count": 47,
      "outputs": [
        {
          "output_type": "stream",
          "name": "stdout",
          "text": [
            "Enter the number: 13\n",
            "13 is belongs to Fibonacci Number\n"
          ]
        }
      ]
    },
    {
      "cell_type": "markdown",
      "metadata": {
        "id": "3hfExC9BPkKK"
      },
      "source": [
        "Reference: [Python Documentation on Functions](https://docs.python.org/3/tutorial/controlflow.html#defining-functions)"
      ]
    }
  ]
}