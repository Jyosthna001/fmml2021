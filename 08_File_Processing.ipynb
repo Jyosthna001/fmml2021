{
  "nbformat": 4,
  "nbformat_minor": 0,
  "metadata": {
    "colab": {
      "name": "08 File Processing.ipynb",
      "provenance": [],
      "include_colab_link": true
    },
    "kernelspec": {
      "name": "python3",
      "display_name": "Python 3"
    },
    "language_info": {
      "name": "python"
    }
  },
  "cells": [
    {
      "cell_type": "markdown",
      "metadata": {
        "id": "view-in-github",
        "colab_type": "text"
      },
      "source": [
        "<a href=\"https://colab.research.google.com/github/Jyosthna001/fmml2021/blob/main/08_File_Processing.ipynb\" target=\"_parent\"><img src=\"https://colab.research.google.com/assets/colab-badge.svg\" alt=\"Open In Colab\"/></a>"
      ]
    },
    {
      "cell_type": "code",
      "metadata": {
        "id": "on0OBs9S-eiS",
        "outputId": "955c8ff4-2bec-4258-d2d8-f588aced63fe",
        "colab": {
          "base_uri": "https://localhost:8080/"
        }
      },
      "source": [
        "!wget https://raw.githubusercontent.com/aosp-mirror/platform_external_protobuf/master/CONTRIBUTORS.txt"
      ],
      "execution_count": 10,
      "outputs": [
        {
          "output_type": "stream",
          "name": "stdout",
          "text": [
            "--2021-12-03 08:44:25--  https://raw.githubusercontent.com/aosp-mirror/platform_external_protobuf/master/CONTRIBUTORS.txt\n",
            "Resolving raw.githubusercontent.com (raw.githubusercontent.com)... 185.199.109.133, 185.199.108.133, 185.199.110.133, ...\n",
            "Connecting to raw.githubusercontent.com (raw.githubusercontent.com)|185.199.109.133|:443... connected.\n",
            "HTTP request sent, awaiting response... 200 OK\n",
            "Length: 3924 (3.8K) [text/plain]\n",
            "Saving to: ‘CONTRIBUTORS.txt.1’\n",
            "\n",
            "\rCONTRIBUTORS.txt.1    0%[                    ]       0  --.-KB/s               \rCONTRIBUTORS.txt.1  100%[===================>]   3.83K  --.-KB/s    in 0s      \n",
            "\n",
            "2021-12-03 08:44:26 (40.4 MB/s) - ‘CONTRIBUTORS.txt.1’ saved [3924/3924]\n",
            "\n"
          ]
        }
      ]
    },
    {
      "cell_type": "code",
      "metadata": {
        "id": "Rg5LcpidAP7I"
      },
      "source": [
        "infile_pointer = open(\"CONTRIBUTORS.txt\", \"r\")\n",
        "outfile_pointer = open(\"emails-id.txt\", \"w\")"
      ],
      "execution_count": 11,
      "outputs": []
    },
    {
      "cell_type": "code",
      "metadata": {
        "id": "4yocH5ViAb-g",
        "outputId": "bcdbe4c8-b89c-47c3-f843-43df885744ba",
        "colab": {
          "base_uri": "https://localhost:8080/"
        }
      },
      "source": [
        "for each_line in infile_pointer:\n",
        "  if (each_line.count('@') > 0) and (each_line.count('<') > 0):\n",
        "      print (each_line)\n",
        "      outfile_pointer.write(each_line)\n",
        "infile_pointer.close()\n",
        "outfile_pointer.close()"
      ],
      "execution_count": 12,
      "outputs": [
        {
          "output_type": "stream",
          "name": "stdout",
          "text": [
            "  Sanjay Ghemawat <sanjay@google.com>\n",
            "\n",
            "  Jeff Dean <jeff@google.com>\n",
            "\n",
            "  Daniel Dulitz <daniel@google.com>\n",
            "\n",
            "  Paul Haahr <haahr@google.com>\n",
            "\n",
            "  Corey Anderson <corin@google.com>\n",
            "\n",
            "  Kenton Varda <kenton@google.com>\n",
            "\n",
            "  Will Robinson <robinson@google.com>\n",
            "\n",
            "  Petar Petrov <petar@google.com>\n",
            "\n",
            "  Brian Duff <bduff@google.com>\n",
            "\n",
            "  Tom Chao <chaot@google.com>\n",
            "\n",
            "  Max Cai <maxtroy@google.com>\n",
            "\n",
            "  Ulas Kirazci <ulas@google.com>\n",
            "\n",
            "  Jason Hsueh <jasonh@google.com>\n",
            "\n",
            "  Joseph Schorr <jschorr@google.com>\n",
            "\n",
            "  Wenbo Zhu <wenboz@google.com>\n",
            "\n",
            "  Scott Bruce <sbruce@google.com>\n",
            "\n",
            "  Neal Norwitz <nnorwitz@google.com>\n",
            "\n",
            "  Jeffrey Yasskin <jyasskin@google.com>\n",
            "\n",
            "  Ambrose Feinstein <ambrose@google.com>\n",
            "\n",
            "  Lisa Carey <lcarey@google.com>\n",
            "\n",
            "  Gregory Kick <gak@google.com>\n",
            "\n",
            "  Kevin Ko <kevin.s.ko@gmail.com>\n",
            "\n",
            "  Johan Euphrosine <proppy@aminche.com>\n",
            "\n",
            "  Ulrich Kunitz <kune@deine-taler.de>\n",
            "\n",
            "  Leandro Lucarella <llucax@gmail.com>\n",
            "\n",
            "  Dilip Joseph <dilip.antony.joseph@gmail.com>\n",
            "\n",
            "  Brian Atkinson <nairb774@gmail.com>\n",
            "\n",
            "  Vincent Choinière <Choiniere.Vincent@hydro.qc.ca>\n",
            "\n",
            "  Monty Taylor <monty.taylor@gmail.com>\n",
            "\n",
            "  Alek Storm <alek.storm@gmail.com>\n",
            "\n",
            "  Oleg Smolsky <oleg.smolsky@gmail.com>\n",
            "\n",
            "  Brian Olson <brianolson@google.com>\n",
            "\n",
            "  Michael Poole <mdpoole@troilus.org>\n",
            "\n",
            "  Wink Saville <wink@google.com>\n",
            "\n",
            "  Will Pierce <willp@nuclei.com>\n",
            "\n",
            "  Alexandre Vassalotti <alexandre@peadrop.com>\n",
            "\n",
            "  Scott Stafford <scott.stafford@gmail.com>\n",
            "\n",
            "  Alexander Melnikov <alm@sibmail.ru>\n",
            "\n",
            "  Oliver Jowett <oliver.jowett@gmail.com>\n",
            "\n",
            "  Evan Jones <evanj@mit.edu>\n",
            "\n",
            "  Michael Kucharski <m.kucharski@gmail.com>\n",
            "\n",
            "  Kacper Kowalik <xarthisius.kk@gmail.com>\n",
            "\n",
            "  William Orr <will@worrbase.com>\n",
            "\n",
            "  Andrew Paprocki <andrew@ishiboo.com>\n",
            "\n"
          ]
        }
      ]
    },
    {
      "cell_type": "code",
      "metadata": {
        "id": "jcMUd4hNCQiU"
      },
      "source": [
        "# https://github.com/mysql/mysql-server/blob/8.0/Docs/sp-imp-spec.txt\n",
        "# Write a program to save all lines that start with '-' in a separate file\n",
        "# Ignore all leading blank characters."
      ],
      "execution_count": 13,
      "outputs": []
    },
    {
      "cell_type": "code",
      "metadata": {
        "id": "h6Vr7kU_NdOu",
        "colab": {
          "base_uri": "https://localhost:8080/"
        },
        "outputId": "910ba61b-41f1-4ea4-88cc-512c250a59a1"
      },
      "source": [
        "!wget https://github.com/mysql/mysql-server/blob/8.0/Docs/sp-imp-spec.txt"
      ],
      "execution_count": 14,
      "outputs": [
        {
          "output_type": "stream",
          "name": "stdout",
          "text": [
            "--2021-12-03 08:44:26--  https://github.com/mysql/mysql-server/blob/8.0/Docs/sp-imp-spec.txt\n",
            "Resolving github.com (github.com)... 140.82.112.3\n",
            "Connecting to github.com (github.com)|140.82.112.3|:443... connected.\n",
            "HTTP request sent, awaiting response... 200 OK\n",
            "Length: unspecified [text/html]\n",
            "Saving to: ‘sp-imp-spec.txt.1’\n",
            "\n",
            "sp-imp-spec.txt.1       [ <=>                ] 434.86K  --.-KB/s    in 0.1s    \n",
            "\n",
            "2021-12-03 08:44:27 (3.36 MB/s) - ‘sp-imp-spec.txt.1’ saved [445301]\n",
            "\n"
          ]
        }
      ]
    },
    {
      "cell_type": "code",
      "metadata": {
        "id": "D1w10rvLNkky"
      },
      "source": [
        "infile_pointer = open(\"sp-imp-spec.txt\", \"r\")\n",
        "outfile_pointer = open(\"outfile.txt\", \"w\")"
      ],
      "execution_count": 15,
      "outputs": []
    },
    {
      "cell_type": "code",
      "metadata": {
        "id": "6R_u9LJdN4Sg"
      },
      "source": [
        "for each_line in infile_pointer:\n",
        "  each_line.lstrip()\n",
        "  if each_line.startswith(\"-\"):\n",
        "      print (each_line)\n",
        "      outfile_pointer.write(each_line)\n",
        "infile_pointer.close()\n",
        "outfile_pointer.close()"
      ],
      "execution_count": 16,
      "outputs": []
    },
    {
      "cell_type": "markdown",
      "metadata": {
        "id": "CzILoddNaWPQ"
      },
      "source": [
        "Reference: [Official Python Documentation](https://docs.python.org/3/tutorial/inputoutput.html)\n",
        "\n",
        "String methods: [Link](https://www.w3schools.com/python/python_ref_string.asp)"
      ]
    }
  ]
}