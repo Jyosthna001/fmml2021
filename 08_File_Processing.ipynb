{
  "nbformat": 4,
  "nbformat_minor": 0,
  "metadata": {
    "colab": {
      "name": "08 File Processing.ipynb",
      "provenance": [],
      "include_colab_link": true
    },
    "kernelspec": {
      "name": "python3",
      "display_name": "Python 3"
    },
    "language_info": {
      "name": "python"
    }
  },
  "cells": [
    {
      "cell_type": "markdown",
      "metadata": {
        "id": "view-in-github",
        "colab_type": "text"
      },
      "source": [
        "<a href=\"https://colab.research.google.com/github/Jyosthna001/fmml2021/blob/main/08_File_Processing.ipynb\" target=\"_parent\"><img src=\"https://colab.research.google.com/assets/colab-badge.svg\" alt=\"Open In Colab\"/></a>"
      ]
    },
    {
      "cell_type": "code",
      "metadata": {
        "id": "on0OBs9S-eiS"
      },
      "source": [
        "!wget https://raw.githubusercontent.com/aosp-mirror/platform_external_protobuf/master/CONTRIBUTORS.txt"
      ],
      "execution_count": null,
      "outputs": []
    },
    {
      "cell_type": "code",
      "metadata": {
        "id": "Rg5LcpidAP7I"
      },
      "source": [
        "infile_pointer = open(\"CONTRIBUTORS.txt\", \"r\")\n",
        "outfile_pointer = open(\"emails-id.txt\", \"w\")"
      ],
      "execution_count": null,
      "outputs": []
    },
    {
      "cell_type": "code",
      "metadata": {
        "id": "4yocH5ViAb-g"
      },
      "source": [
        "for each_line in infile_pointer:\n",
        "  if (each_line.count('@') > 0) and (each_line.count('<') > 0):\n",
        "      print (each_line)\n",
        "      outfile_pointer.write(each_line)\n",
        "infile_pointer.close()\n",
        "outfile_pointer.close()"
      ],
      "execution_count": null,
      "outputs": []
    },
    {
      "cell_type": "code",
      "metadata": {
        "id": "jcMUd4hNCQiU"
      },
      "source": [
        "# https://github.com/mysql/mysql-server/blob/8.0/Docs/sp-imp-spec.txt\n",
        "# Write a program to save all lines that start with '-' in a separate file\n",
        "# Ignore all leading blank characters."
      ],
      "execution_count": null,
      "outputs": []
    },
    {
      "cell_type": "code",
      "metadata": {
        "id": "h6Vr7kU_NdOu",
        "outputId": "d4d6e86a-f8f1-4db4-a184-c16914589f3b",
        "colab": {
          "base_uri": "https://localhost:8080/"
        }
      },
      "source": [
        "!wget https://github.com/mysql/mysql-server/blob/8.0/Docs/sp-imp-spec.txt"
      ],
      "execution_count": 40,
      "outputs": [
        {
          "output_type": "stream",
          "name": "stdout",
          "text": [
            "--2021-12-01 08:58:22--  https://github.com/mysql/mysql-server/blob/8.0/Docs/sp-imp-spec.txt\n",
            "Resolving github.com (github.com)... 140.82.113.3\n",
            "Connecting to github.com (github.com)|140.82.113.3|:443... connected.\n",
            "HTTP request sent, awaiting response... 200 OK\n",
            "Length: unspecified [text/html]\n",
            "Saving to: ‘sp-imp-spec.txt’\n",
            "\n",
            "sp-imp-spec.txt         [  <=>               ] 440.09K  1.40MB/s    in 0.3s    \n",
            "\n",
            "2021-12-01 08:58:22 (1.40 MB/s) - ‘sp-imp-spec.txt’ saved [450654]\n",
            "\n"
          ]
        }
      ]
    },
    {
      "cell_type": "code",
      "metadata": {
        "id": "D1w10rvLNkky"
      },
      "source": [
        "infile_pointer = open(\"sp-imp-spec.txt\", \"r\")\n",
        "outfile_pointer = open(\"eml.txt\", \"w\")"
      ],
      "execution_count": 41,
      "outputs": []
    },
    {
      "cell_type": "code",
      "metadata": {
        "id": "6R_u9LJdN4Sg"
      },
      "source": [
        "for each_line in infile_pointer:\n",
        "  if each_line.startswith(\" -\"):\n",
        "      print (each_line)\n",
        "      outfile_pointer.write(each_line)\n",
        "infile_pointer.close()\n",
        "outfile_pointer.close()"
      ],
      "execution_count": 42,
      "outputs": []
    },
    {
      "cell_type": "markdown",
      "metadata": {
        "id": "CzILoddNaWPQ"
      },
      "source": [
        "Reference: [Official Python Documentation](https://docs.python.org/3/tutorial/inputoutput.html)\n",
        "\n",
        "String methods: [Link](https://www.w3schools.com/python/python_ref_string.asp)"
      ]
    }
  ]
}