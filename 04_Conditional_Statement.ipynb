{
  "nbformat": 4,
  "nbformat_minor": 0,
  "metadata": {
    "colab": {
      "name": "04_Conditional Statement.ipynb",
      "provenance": [],
      "include_colab_link": true
    },
    "kernelspec": {
      "name": "python3",
      "display_name": "Python 3"
    },
    "language_info": {
      "name": "python"
    }
  },
  "cells": [
    {
      "cell_type": "markdown",
      "metadata": {
        "id": "view-in-github",
        "colab_type": "text"
      },
      "source": [
        "<a href=\"https://colab.research.google.com/github/Jyosthna001/fmml2021/blob/main/04_Conditional_Statement.ipynb\" target=\"_parent\"><img src=\"https://colab.research.google.com/assets/colab-badge.svg\" alt=\"Open In Colab\"/></a>"
      ]
    },
    {
      "cell_type": "markdown",
      "metadata": {
        "id": "edX9c60K6OGY"
      },
      "source": [
        "#### Conditional Statements"
      ]
    },
    {
      "cell_type": "markdown",
      "metadata": {
        "id": "BOWsIrajqsvE"
      },
      "source": [
        "##### if - elif - else  (with indentation)\n",
        "```\n",
        "if condition1:\n",
        "   statement1\n",
        "   statement2\n",
        "   statement3\n",
        "elif condition2:\n",
        "   statement4\n",
        "   statement5\n",
        "   statement6\n",
        "else:\n",
        "   statement7\n",
        "   statement8\n",
        "```"
      ]
    },
    {
      "cell_type": "code",
      "metadata": {
        "id": "eDT9R8AOqnsz",
        "outputId": "d1ec9713-b27b-473e-ae8c-a46d69c2890c",
        "colab": {
          "base_uri": "https://localhost:8080/"
        }
      },
      "source": [
        "a = input(\"Enter an integer a: \")\n",
        "type(a)"
      ],
      "execution_count": 2,
      "outputs": [
        {
          "name": "stdout",
          "output_type": "stream",
          "text": [
            "Enter an integer a: 14\n"
          ]
        },
        {
          "output_type": "execute_result",
          "data": {
            "text/plain": [
              "str"
            ]
          },
          "metadata": {},
          "execution_count": 2
        }
      ]
    },
    {
      "cell_type": "code",
      "metadata": {
        "id": "gbOsmJaIqiIP",
        "outputId": "40f37692-575d-45dd-e518-0df209073615",
        "colab": {
          "base_uri": "https://localhost:8080/"
        }
      },
      "source": [
        "a = int(a)\n",
        "type(a)"
      ],
      "execution_count": 3,
      "outputs": [
        {
          "output_type": "execute_result",
          "data": {
            "text/plain": [
              "int"
            ]
          },
          "metadata": {},
          "execution_count": 3
        }
      ]
    },
    {
      "cell_type": "code",
      "metadata": {
        "id": "8D8fTIoYqdGE",
        "outputId": "3293c246-ee19-420c-dd15-e82feae70dbd",
        "colab": {
          "base_uri": "https://localhost:8080/"
        }
      },
      "source": [
        "b = input(\"Enter an integer b: \")\n",
        "b = int(b)"
      ],
      "execution_count": 4,
      "outputs": [
        {
          "name": "stdout",
          "output_type": "stream",
          "text": [
            "Enter an integer b: 15\n"
          ]
        }
      ]
    },
    {
      "cell_type": "code",
      "metadata": {
        "id": "cehfXMvowN0S",
        "outputId": "bdcdd16f-576b-4e13-f50e-0d9651d6c6a5",
        "colab": {
          "base_uri": "https://localhost:8080/"
        }
      },
      "source": [
        "if (a > b):\n",
        "  print (\"a is greater than b\")\n",
        "  print (\"and that's it\")\n",
        "elif (a < b):\n",
        "  print (\"a is less than b\")\n",
        "  print (\"which is clear\")\n",
        "else:\n",
        "  print (\"a is neither greater than b,  nor less than b\")"
      ],
      "execution_count": 5,
      "outputs": [
        {
          "output_type": "stream",
          "name": "stdout",
          "text": [
            "a is less than b\n",
            "which is clear\n"
          ]
        }
      ]
    },
    {
      "cell_type": "markdown",
      "metadata": {
        "id": "gRugJ6YQt57S"
      },
      "source": [
        "##### if (condition): statement (single line - without indentation)"
      ]
    },
    {
      "cell_type": "code",
      "metadata": {
        "id": "ZF-tcVscuADN",
        "outputId": "e302f492-80df-42ef-d079-6d6f6fa1f4bc",
        "colab": {
          "base_uri": "https://localhost:8080/"
        }
      },
      "source": [
        "a = input(\"Enter an integer a: \")\n",
        "a = int(a)\n",
        "b = input(\"Enter an integer b: \")\n",
        "b = int(b)"
      ],
      "execution_count": 6,
      "outputs": [
        {
          "name": "stdout",
          "output_type": "stream",
          "text": [
            "Enter an integer a: 12\n",
            "Enter an integer b: 13\n"
          ]
        }
      ]
    },
    {
      "cell_type": "code",
      "metadata": {
        "id": "N2E5veph8_9V",
        "outputId": "0beca98a-098f-40cc-f813-f6d3182252fa",
        "colab": {
          "base_uri": "https://localhost:8080/"
        }
      },
      "source": [
        "if (a < b): print (\"a is lesser than b\")"
      ],
      "execution_count": 7,
      "outputs": [
        {
          "output_type": "stream",
          "name": "stdout",
          "text": [
            "a is lesser than b\n"
          ]
        }
      ]
    },
    {
      "cell_type": "markdown",
      "metadata": {
        "id": "wtPeoXBWxBLa"
      },
      "source": [
        "##### if - else in a single line "
      ]
    },
    {
      "cell_type": "code",
      "metadata": {
        "id": "SwO5vZ8LxGMA",
        "outputId": "8732817f-550d-40c9-dce4-7b204a9b11f8",
        "colab": {
          "base_uri": "https://localhost:8080/"
        }
      },
      "source": [
        "a = input(\"Enter an integer a: \")\n",
        "a = int(a)\n",
        "b = input(\"Enter an integer b: \")\n",
        "b = int(b)"
      ],
      "execution_count": 9,
      "outputs": [
        {
          "name": "stdout",
          "output_type": "stream",
          "text": [
            "Enter an integer a: 89\n",
            "Enter an integer b: 56\n"
          ]
        }
      ]
    },
    {
      "cell_type": "code",
      "metadata": {
        "id": "-SLed6y6xJoq",
        "outputId": "8f5c3748-f5d5-4bbf-8122-0e51cb75a23e",
        "colab": {
          "base_uri": "https://localhost:8080/"
        }
      },
      "source": [
        "print (\"a is less than b\") if (a < b) else print (\"a - {} is not less than b - {}.\".format(a, b))"
      ],
      "execution_count": 10,
      "outputs": [
        {
          "output_type": "stream",
          "name": "stdout",
          "text": [
            "a - 89 is not less than b - 56.\n"
          ]
        }
      ]
    },
    {
      "cell_type": "markdown",
      "metadata": {
        "id": "a-ggfGcOvFjz"
      },
      "source": [
        "##### if-else with three conditions"
      ]
    },
    {
      "cell_type": "code",
      "metadata": {
        "id": "JHGOgFs-vWbq",
        "outputId": "5446551f-7c28-4463-db05-d6e1b584fc44",
        "colab": {
          "base_uri": "https://localhost:8080/"
        }
      },
      "source": [
        "a = input(\"Enter first string: \")\n",
        "b = input (\"Enter second string: \")"
      ],
      "execution_count": 11,
      "outputs": [
        {
          "name": "stdout",
          "output_type": "stream",
          "text": [
            "Enter first string: aaa\n",
            "Enter second string: ccccc\n"
          ]
        }
      ]
    },
    {
      "cell_type": "code",
      "metadata": {
        "id": "qgqqBPjAvLQx",
        "outputId": "97fa4331-00bb-4da5-ca5a-09834aff3a2e",
        "colab": {
          "base_uri": "https://localhost:8080/"
        }
      },
      "source": [
        "print (\"first string comes earlier\") if (a<b) else print (\"second string comes earlier\") if (b<a) else print (\"both strings are same\")  "
      ],
      "execution_count": 12,
      "outputs": [
        {
          "output_type": "stream",
          "name": "stdout",
          "text": [
            "first string comes earlier\n"
          ]
        }
      ]
    },
    {
      "cell_type": "markdown",
      "metadata": {
        "id": "VdwpRcZ82I5N"
      },
      "source": [
        "##### **Exercise**: Write a program to check whether a character read from keyboard is a vowel or consonant"
      ]
    },
    {
      "cell_type": "code",
      "metadata": {
        "id": "b_QjChOW2VJY"
      },
      "source": [
        "# Your program should come here"
      ],
      "execution_count": 13,
      "outputs": []
    },
    {
      "cell_type": "code",
      "metadata": {
        "id": "jmxCmEeBflIu",
        "outputId": "8c51d473-edcb-4129-db15-0f2250b76cbe",
        "colab": {
          "base_uri": "https://localhost:8080/"
        }
      },
      "source": [
        "cv = input(\"Enter a character: \")\n",
        "if(cv == 'A' or cv == 'a' or cv == 'E' or cv == 'e' or cv == 'I' or cv == 'i' or cv == 'O' or cv == 'o' or cv == 'U' or cv == 'u'):\n",
        "  print(cv, \"is a Vowel\")\n",
        "else:\n",
        "  print(cv, \"is a Consonant\")"
      ],
      "execution_count": 27,
      "outputs": [
        {
          "output_type": "stream",
          "name": "stdout",
          "text": [
            "Enter a character: A\n",
            "A is a Vowel\n"
          ]
        }
      ]
    },
    {
      "cell_type": "markdown",
      "metadata": {
        "id": "a9AsLgbcVfwx"
      },
      "source": [
        "Reference: [Official Python Documentation](https://docs.python.org/3/tutorial/controlflow.html)"
      ]
    }
  ]
}